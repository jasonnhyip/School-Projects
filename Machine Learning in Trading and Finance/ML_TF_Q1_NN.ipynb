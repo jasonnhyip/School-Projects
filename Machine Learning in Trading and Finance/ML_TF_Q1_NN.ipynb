{
  "nbformat": 4,
  "nbformat_minor": 0,
  "metadata": {
    "colab": {
      "name": "ML_TF_A1Q1_NN.ipynb",
      "provenance": [],
      "collapsed_sections": []
    },
    "kernelspec": {
      "name": "python3",
      "display_name": "Python 3"
    },
    "language_info": {
      "name": "python"
    }
  },
  "cells": [
    {
      "cell_type": "code",
      "execution_count": 3,
      "metadata": {
        "colab": {
          "base_uri": "https://localhost:8080/"
        },
        "id": "7SW6Juvl1kdK",
        "outputId": "31394f8d-ec10-4f9d-92aa-c83246f67af8"
      },
      "outputs": [
        {
          "output_type": "stream",
          "name": "stdout",
          "text": [
            "Downloading data from https://storage.googleapis.com/tensorflow/tf-keras-datasets/mnist.npz\n",
            "11493376/11490434 [==============================] - 0s 0us/step\n",
            "11501568/11490434 [==============================] - 0s 0us/step\n"
          ]
        },
        {
          "output_type": "execute_result",
          "data": {
            "text/plain": [
              "((60000, 28, 28), (60000,), (10000, 28, 28), (10000,))"
            ]
          },
          "metadata": {},
          "execution_count": 3
        }
      ],
      "source": [
        "import numpy as np\n",
        "from keras.datasets import mnist\n",
        "\n",
        "(train_images, train_labels), (test_images, test_labels) = mnist.load_data()\n",
        "train_images.shape,train_labels.shape,test_images.shape,test_labels.shape"
      ]
    },
    {
      "cell_type": "code",
      "source": [
        "train_images = train_images.astype('float32')/255\n",
        "train_images_bl = train_images.reshape((60000, 28*28))\n",
        "\n",
        "test_images = test_images.astype('float32')/255\n",
        "test_images_bl = test_images.reshape((10000, 28*28))"
      ],
      "metadata": {
        "id": "hMdP4NO34Ets"
      },
      "execution_count": 4,
      "outputs": []
    },
    {
      "cell_type": "code",
      "source": [
        "from keras import models\n",
        "from keras import layers\n",
        "from tensorflow.keras.utils import to_categorical"
      ],
      "metadata": {
        "id": "vlzAhhNXEwMB"
      },
      "execution_count": 5,
      "outputs": []
    },
    {
      "cell_type": "code",
      "source": [
        "# Baseline Neural Network from L2\n",
        "network = models.Sequential()\n",
        "network.add(layers.Dense(512, activation = 'relu', input_shape=(28*28,)))\n",
        "network.add(layers.Dense(10,activation='softmax'))\n",
        "network.compile(optimizer='rmsprop',loss='categorical_crossentropy',metrics=['accuracy'])"
      ],
      "metadata": {
        "id": "Y7d-hWlM1n6V"
      },
      "execution_count": 5,
      "outputs": []
    },
    {
      "cell_type": "code",
      "source": [
        "train_labels = to_categorical(train_labels)\n",
        "test_labels = to_categorical(test_labels)"
      ],
      "metadata": {
        "id": "7yFtuxLy1--H"
      },
      "execution_count": 4,
      "outputs": []
    },
    {
      "cell_type": "code",
      "source": [
        "# network.fit(train_images,train_labels, epochs=20, batch_size=128)\n",
        "training_history = network.fit(\n",
        "    train_images,\n",
        "    train_labels,\n",
        "    epochs=100,\n",
        "    validation_data=(test_images, test_labels),\n",
        ")"
      ],
      "metadata": {
        "colab": {
          "base_uri": "https://localhost:8080/"
        },
        "id": "rWPj6xzx2CZR",
        "outputId": "34c1e7b6-edf3-4db9-f0e4-b947c19f440c"
      },
      "execution_count": 5,
      "outputs": [
        {
          "output_type": "stream",
          "name": "stdout",
          "text": [
            "Epoch 1/100\n",
            "1875/1875 [==============================] - 25s 13ms/step - loss: 0.2046 - accuracy: 0.9398 - val_loss: 0.1261 - val_accuracy: 0.9639\n",
            "Epoch 2/100\n",
            "1875/1875 [==============================] - 17s 9ms/step - loss: 0.0898 - accuracy: 0.9736 - val_loss: 0.0858 - val_accuracy: 0.9741\n",
            "Epoch 3/100\n",
            "1875/1875 [==============================] - 13s 7ms/step - loss: 0.0662 - accuracy: 0.9815 - val_loss: 0.0829 - val_accuracy: 0.9771\n",
            "Epoch 4/100\n",
            "1875/1875 [==============================] - 13s 7ms/step - loss: 0.0508 - accuracy: 0.9861 - val_loss: 0.0798 - val_accuracy: 0.9794\n",
            "Epoch 5/100\n",
            "1875/1875 [==============================] - 13s 7ms/step - loss: 0.0421 - accuracy: 0.9887 - val_loss: 0.0795 - val_accuracy: 0.9797\n",
            "Epoch 6/100\n",
            "1875/1875 [==============================] - 12s 7ms/step - loss: 0.0340 - accuracy: 0.9910 - val_loss: 0.0877 - val_accuracy: 0.9798\n",
            "Epoch 7/100\n",
            "1875/1875 [==============================] - 13s 7ms/step - loss: 0.0280 - accuracy: 0.9926 - val_loss: 0.0918 - val_accuracy: 0.9803\n",
            "Epoch 8/100\n",
            "1875/1875 [==============================] - 13s 7ms/step - loss: 0.0233 - accuracy: 0.9940 - val_loss: 0.1045 - val_accuracy: 0.9806\n",
            "Epoch 9/100\n",
            "1875/1875 [==============================] - 15s 8ms/step - loss: 0.0194 - accuracy: 0.9951 - val_loss: 0.1051 - val_accuracy: 0.9805\n",
            "Epoch 10/100\n",
            "1875/1875 [==============================] - 14s 7ms/step - loss: 0.0159 - accuracy: 0.9960 - val_loss: 0.0906 - val_accuracy: 0.9820\n",
            "Epoch 11/100\n",
            "1875/1875 [==============================] - 13s 7ms/step - loss: 0.0122 - accuracy: 0.9967 - val_loss: 0.1322 - val_accuracy: 0.9778\n",
            "Epoch 12/100\n",
            "1875/1875 [==============================] - 13s 7ms/step - loss: 0.0118 - accuracy: 0.9971 - val_loss: 0.1095 - val_accuracy: 0.9821\n",
            "Epoch 13/100\n",
            "1875/1875 [==============================] - 13s 7ms/step - loss: 0.0086 - accuracy: 0.9977 - val_loss: 0.1101 - val_accuracy: 0.9815\n",
            "Epoch 14/100\n",
            "1875/1875 [==============================] - 13s 7ms/step - loss: 0.0084 - accuracy: 0.9980 - val_loss: 0.1205 - val_accuracy: 0.9814\n",
            "Epoch 15/100\n",
            "1875/1875 [==============================] - 14s 7ms/step - loss: 0.0061 - accuracy: 0.9984 - val_loss: 0.1273 - val_accuracy: 0.9818\n",
            "Epoch 16/100\n",
            "1875/1875 [==============================] - 14s 8ms/step - loss: 0.0059 - accuracy: 0.9984 - val_loss: 0.1464 - val_accuracy: 0.9790\n",
            "Epoch 17/100\n",
            "1875/1875 [==============================] - 14s 8ms/step - loss: 0.0047 - accuracy: 0.9988 - val_loss: 0.1332 - val_accuracy: 0.9811\n",
            "Epoch 18/100\n",
            "1875/1875 [==============================] - 14s 7ms/step - loss: 0.0036 - accuracy: 0.9990 - val_loss: 0.1322 - val_accuracy: 0.9816\n",
            "Epoch 19/100\n",
            "1875/1875 [==============================] - 14s 7ms/step - loss: 0.0033 - accuracy: 0.9991 - val_loss: 0.1394 - val_accuracy: 0.9820\n",
            "Epoch 20/100\n",
            "1875/1875 [==============================] - 15s 8ms/step - loss: 0.0026 - accuracy: 0.9992 - val_loss: 0.1503 - val_accuracy: 0.9814\n",
            "Epoch 21/100\n",
            "1875/1875 [==============================] - 15s 8ms/step - loss: 0.0022 - accuracy: 0.9993 - val_loss: 0.1532 - val_accuracy: 0.9805\n",
            "Epoch 22/100\n",
            "1875/1875 [==============================] - 13s 7ms/step - loss: 0.0020 - accuracy: 0.9995 - val_loss: 0.1503 - val_accuracy: 0.9818\n",
            "Epoch 23/100\n",
            "1875/1875 [==============================] - 14s 8ms/step - loss: 0.0018 - accuracy: 0.9996 - val_loss: 0.1558 - val_accuracy: 0.9809\n",
            "Epoch 24/100\n",
            "1875/1875 [==============================] - 14s 7ms/step - loss: 0.0012 - accuracy: 0.9997 - val_loss: 0.1552 - val_accuracy: 0.9823\n",
            "Epoch 25/100\n",
            "1875/1875 [==============================] - 14s 8ms/step - loss: 0.0012 - accuracy: 0.9997 - val_loss: 0.1705 - val_accuracy: 0.9823\n",
            "Epoch 26/100\n",
            "1875/1875 [==============================] - 14s 7ms/step - loss: 8.5669e-04 - accuracy: 0.9997 - val_loss: 0.1707 - val_accuracy: 0.9823\n",
            "Epoch 27/100\n",
            "1875/1875 [==============================] - 14s 8ms/step - loss: 9.1623e-04 - accuracy: 0.9997 - val_loss: 0.1747 - val_accuracy: 0.9822\n",
            "Epoch 28/100\n",
            "1875/1875 [==============================] - 15s 8ms/step - loss: 6.9668e-04 - accuracy: 0.9998 - val_loss: 0.1822 - val_accuracy: 0.9823\n",
            "Epoch 29/100\n",
            "1875/1875 [==============================] - 14s 7ms/step - loss: 2.8034e-04 - accuracy: 0.9999 - val_loss: 0.1807 - val_accuracy: 0.9812\n",
            "Epoch 30/100\n",
            "1875/1875 [==============================] - 14s 7ms/step - loss: 3.1521e-04 - accuracy: 0.9999 - val_loss: 0.1902 - val_accuracy: 0.9810\n",
            "Epoch 31/100\n",
            "1875/1875 [==============================] - 14s 7ms/step - loss: 4.9354e-04 - accuracy: 0.9998 - val_loss: 0.1873 - val_accuracy: 0.9816\n",
            "Epoch 32/100\n",
            "1875/1875 [==============================] - 14s 8ms/step - loss: 1.4568e-04 - accuracy: 0.9999 - val_loss: 0.1849 - val_accuracy: 0.9822\n",
            "Epoch 33/100\n",
            "1875/1875 [==============================] - 15s 8ms/step - loss: 1.4638e-04 - accuracy: 1.0000 - val_loss: 0.1860 - val_accuracy: 0.9815\n",
            "Epoch 34/100\n",
            "1875/1875 [==============================] - 14s 8ms/step - loss: 1.1901e-04 - accuracy: 0.9999 - val_loss: 0.1929 - val_accuracy: 0.9822\n",
            "Epoch 35/100\n",
            "1875/1875 [==============================] - 14s 8ms/step - loss: 1.2194e-04 - accuracy: 1.0000 - val_loss: 0.1888 - val_accuracy: 0.9825\n",
            "Epoch 36/100\n",
            "1875/1875 [==============================] - 15s 8ms/step - loss: 1.5162e-05 - accuracy: 1.0000 - val_loss: 0.1863 - val_accuracy: 0.9831\n",
            "Epoch 37/100\n",
            "1875/1875 [==============================] - 14s 7ms/step - loss: 1.2701e-05 - accuracy: 1.0000 - val_loss: 0.1779 - val_accuracy: 0.9845\n",
            "Epoch 38/100\n",
            "1875/1875 [==============================] - 13s 7ms/step - loss: 2.4897e-05 - accuracy: 1.0000 - val_loss: 0.1887 - val_accuracy: 0.9825\n",
            "Epoch 39/100\n",
            "1875/1875 [==============================] - 14s 7ms/step - loss: 8.1481e-07 - accuracy: 1.0000 - val_loss: 0.1858 - val_accuracy: 0.9833\n",
            "Epoch 40/100\n",
            "1875/1875 [==============================] - 14s 7ms/step - loss: 4.2808e-08 - accuracy: 1.0000 - val_loss: 0.1883 - val_accuracy: 0.9832\n",
            "Epoch 41/100\n",
            "1875/1875 [==============================] - 13s 7ms/step - loss: 9.2946e-08 - accuracy: 1.0000 - val_loss: 0.1895 - val_accuracy: 0.9833\n",
            "Epoch 42/100\n",
            "1875/1875 [==============================] - 14s 7ms/step - loss: 8.1654e-09 - accuracy: 1.0000 - val_loss: 0.1924 - val_accuracy: 0.9822\n",
            "Epoch 43/100\n",
            "1875/1875 [==============================] - 14s 7ms/step - loss: 2.7696e-09 - accuracy: 1.0000 - val_loss: 0.1946 - val_accuracy: 0.9825\n",
            "Epoch 44/100\n",
            "1875/1875 [==============================] - 14s 7ms/step - loss: 2.4100e-09 - accuracy: 1.0000 - val_loss: 0.1962 - val_accuracy: 0.9827\n",
            "Epoch 45/100\n",
            "1875/1875 [==============================] - 14s 7ms/step - loss: 2.2153e-09 - accuracy: 1.0000 - val_loss: 0.1986 - val_accuracy: 0.9823\n",
            "Epoch 46/100\n",
            "1875/1875 [==============================] - 14s 8ms/step - loss: 2.3464e-09 - accuracy: 1.0000 - val_loss: 0.2000 - val_accuracy: 0.9824\n",
            "Epoch 47/100\n",
            "1875/1875 [==============================] - 15s 8ms/step - loss: 2.4637e-09 - accuracy: 1.0000 - val_loss: 0.2011 - val_accuracy: 0.9823\n",
            "Epoch 48/100\n",
            "1875/1875 [==============================] - 15s 8ms/step - loss: 2.6047e-09 - accuracy: 1.0000 - val_loss: 0.2025 - val_accuracy: 0.9825\n",
            "Epoch 49/100\n",
            "1875/1875 [==============================] - 14s 8ms/step - loss: 2.7061e-09 - accuracy: 1.0000 - val_loss: 0.2047 - val_accuracy: 0.9822\n",
            "Epoch 50/100\n",
            "1875/1875 [==============================] - 14s 8ms/step - loss: 2.6902e-09 - accuracy: 1.0000 - val_loss: 0.2059 - val_accuracy: 0.9824\n",
            "Epoch 51/100\n",
            "1875/1875 [==============================] - 14s 8ms/step - loss: 3.1233e-09 - accuracy: 1.0000 - val_loss: 0.2080 - val_accuracy: 0.9820\n",
            "Epoch 52/100\n",
            "1875/1875 [==============================] - 14s 8ms/step - loss: 2.9624e-09 - accuracy: 1.0000 - val_loss: 0.2072 - val_accuracy: 0.9821\n",
            "Epoch 53/100\n",
            "1875/1875 [==============================] - 14s 8ms/step - loss: 2.9504e-09 - accuracy: 1.0000 - val_loss: 0.2086 - val_accuracy: 0.9824\n",
            "Epoch 54/100\n",
            "1875/1875 [==============================] - 13s 7ms/step - loss: 3.0935e-09 - accuracy: 1.0000 - val_loss: 0.2102 - val_accuracy: 0.9823\n",
            "Epoch 55/100\n",
            "1875/1875 [==============================] - 13s 7ms/step - loss: 3.3379e-09 - accuracy: 1.0000 - val_loss: 0.2075 - val_accuracy: 0.9823\n",
            "Epoch 56/100\n",
            "1875/1875 [==============================] - 14s 7ms/step - loss: 3.6021e-09 - accuracy: 1.0000 - val_loss: 0.2079 - val_accuracy: 0.9821\n",
            "Epoch 57/100\n",
            "1875/1875 [==============================] - 14s 7ms/step - loss: 3.4730e-09 - accuracy: 1.0000 - val_loss: 0.2105 - val_accuracy: 0.9823\n",
            "Epoch 58/100\n",
            "1875/1875 [==============================] - 14s 8ms/step - loss: 3.8505e-09 - accuracy: 1.0000 - val_loss: 0.2109 - val_accuracy: 0.9820\n",
            "Epoch 59/100\n",
            "1875/1875 [==============================] - 15s 8ms/step - loss: 3.6299e-09 - accuracy: 1.0000 - val_loss: 0.2111 - val_accuracy: 0.9820\n",
            "Epoch 60/100\n",
            "1875/1875 [==============================] - 14s 8ms/step - loss: 3.5266e-09 - accuracy: 1.0000 - val_loss: 0.2133 - val_accuracy: 0.9819\n",
            "Epoch 61/100\n",
            "1875/1875 [==============================] - 14s 8ms/step - loss: 3.8107e-09 - accuracy: 1.0000 - val_loss: 0.2137 - val_accuracy: 0.9820\n",
            "Epoch 62/100\n",
            "1875/1875 [==============================] - 14s 7ms/step - loss: 3.9756e-09 - accuracy: 1.0000 - val_loss: 0.2142 - val_accuracy: 0.9819\n",
            "Epoch 63/100\n",
            "1875/1875 [==============================] - 14s 8ms/step - loss: 3.8246e-09 - accuracy: 1.0000 - val_loss: 0.2134 - val_accuracy: 0.9820\n",
            "Epoch 64/100\n",
            "1875/1875 [==============================] - 14s 7ms/step - loss: 3.8783e-09 - accuracy: 1.0000 - val_loss: 0.2132 - val_accuracy: 0.9823\n",
            "Epoch 65/100\n",
            "1875/1875 [==============================] - 13s 7ms/step - loss: 3.9200e-09 - accuracy: 1.0000 - val_loss: 0.2170 - val_accuracy: 0.9822\n",
            "Epoch 66/100\n",
            "1875/1875 [==============================] - 14s 7ms/step - loss: 3.9935e-09 - accuracy: 1.0000 - val_loss: 0.2162 - val_accuracy: 0.9819\n",
            "Epoch 67/100\n",
            "1875/1875 [==============================] - 14s 7ms/step - loss: 4.4584e-09 - accuracy: 1.0000 - val_loss: 0.2169 - val_accuracy: 0.9815\n",
            "Epoch 68/100\n",
            "1875/1875 [==============================] - 14s 8ms/step - loss: 4.3412e-09 - accuracy: 1.0000 - val_loss: 0.2181 - val_accuracy: 0.9817\n",
            "Epoch 69/100\n",
            "1875/1875 [==============================] - 14s 7ms/step - loss: 4.2220e-09 - accuracy: 1.0000 - val_loss: 0.2189 - val_accuracy: 0.9818\n",
            "Epoch 70/100\n",
            "1875/1875 [==============================] - 14s 7ms/step - loss: 4.6452e-09 - accuracy: 1.0000 - val_loss: 0.2189 - val_accuracy: 0.9817\n",
            "Epoch 71/100\n",
            "1875/1875 [==============================] - 14s 7ms/step - loss: 5.3147e-09 - accuracy: 1.0000 - val_loss: 0.2205 - val_accuracy: 0.9814\n",
            "Epoch 72/100\n",
            "1875/1875 [==============================] - 14s 7ms/step - loss: 5.2993e-05 - accuracy: 1.0000 - val_loss: 0.2182 - val_accuracy: 0.9815\n",
            "Epoch 73/100\n",
            "1875/1875 [==============================] - 14s 7ms/step - loss: 2.1842e-04 - accuracy: 0.9999 - val_loss: 0.2172 - val_accuracy: 0.9801\n",
            "Epoch 74/100\n",
            "1875/1875 [==============================] - 14s 7ms/step - loss: 5.7885e-04 - accuracy: 0.9998 - val_loss: 0.2016 - val_accuracy: 0.9818\n",
            "Epoch 75/100\n",
            "1875/1875 [==============================] - 13s 7ms/step - loss: 3.3199e-04 - accuracy: 0.9999 - val_loss: 0.2017 - val_accuracy: 0.9827\n",
            "Epoch 76/100\n",
            "1875/1875 [==============================] - 14s 7ms/step - loss: 9.8610e-06 - accuracy: 1.0000 - val_loss: 0.2124 - val_accuracy: 0.9819\n",
            "Epoch 77/100\n",
            "1875/1875 [==============================] - 15s 8ms/step - loss: 2.1797e-06 - accuracy: 1.0000 - val_loss: 0.2010 - val_accuracy: 0.9823\n",
            "Epoch 78/100\n",
            "1875/1875 [==============================] - 14s 7ms/step - loss: 4.6838e-06 - accuracy: 1.0000 - val_loss: 0.2004 - val_accuracy: 0.9827\n",
            "Epoch 79/100\n",
            "1875/1875 [==============================] - 14s 7ms/step - loss: 2.2630e-09 - accuracy: 1.0000 - val_loss: 0.2021 - val_accuracy: 0.9829\n",
            "Epoch 80/100\n",
            "1875/1875 [==============================] - 14s 8ms/step - loss: 1.3073e-09 - accuracy: 1.0000 - val_loss: 0.2045 - val_accuracy: 0.9827\n",
            "Epoch 81/100\n",
            "1875/1875 [==============================] - 15s 8ms/step - loss: 1.0610e-09 - accuracy: 1.0000 - val_loss: 0.2069 - val_accuracy: 0.9824\n",
            "Epoch 82/100\n",
            "1875/1875 [==============================] - 14s 8ms/step - loss: 1.1881e-09 - accuracy: 1.0000 - val_loss: 0.2084 - val_accuracy: 0.9827\n",
            "Epoch 83/100\n",
            "1875/1875 [==============================] - 14s 7ms/step - loss: 1.2795e-09 - accuracy: 1.0000 - val_loss: 0.2094 - val_accuracy: 0.9825\n",
            "Epoch 84/100\n",
            "1875/1875 [==============================] - 14s 7ms/step - loss: 1.3709e-09 - accuracy: 1.0000 - val_loss: 0.2100 - val_accuracy: 0.9828\n",
            "Epoch 85/100\n",
            "1875/1875 [==============================] - 15s 8ms/step - loss: 1.5358e-09 - accuracy: 1.0000 - val_loss: 0.2132 - val_accuracy: 0.9828\n",
            "Epoch 86/100\n",
            "1875/1875 [==============================] - 14s 8ms/step - loss: 1.7623e-09 - accuracy: 1.0000 - val_loss: 0.2133 - val_accuracy: 0.9826\n",
            "Epoch 87/100\n",
            "1875/1875 [==============================] - 15s 8ms/step - loss: 1.8497e-09 - accuracy: 1.0000 - val_loss: 0.2140 - val_accuracy: 0.9824\n",
            "Epoch 88/100\n",
            "1875/1875 [==============================] - 14s 8ms/step - loss: 1.8696e-09 - accuracy: 1.0000 - val_loss: 0.2153 - val_accuracy: 0.9825\n",
            "Epoch 89/100\n",
            "1875/1875 [==============================] - 14s 7ms/step - loss: 2.1557e-09 - accuracy: 1.0000 - val_loss: 0.2154 - val_accuracy: 0.9823\n",
            "Epoch 90/100\n",
            "1875/1875 [==============================] - 14s 7ms/step - loss: 2.3226e-09 - accuracy: 1.0000 - val_loss: 0.2167 - val_accuracy: 0.9823\n",
            "Epoch 91/100\n",
            "1875/1875 [==============================] - 14s 7ms/step - loss: 2.2471e-09 - accuracy: 1.0000 - val_loss: 0.2164 - val_accuracy: 0.9823\n",
            "Epoch 92/100\n",
            "1875/1875 [==============================] - 13s 7ms/step - loss: 2.2193e-09 - accuracy: 1.0000 - val_loss: 0.2180 - val_accuracy: 0.9819\n",
            "Epoch 93/100\n",
            "1875/1875 [==============================] - 14s 7ms/step - loss: 2.5610e-09 - accuracy: 1.0000 - val_loss: 0.2195 - val_accuracy: 0.9820\n",
            "Epoch 94/100\n",
            "1875/1875 [==============================] - 14s 8ms/step - loss: 2.8729e-09 - accuracy: 1.0000 - val_loss: 0.2194 - val_accuracy: 0.9823\n",
            "Epoch 95/100\n",
            "1875/1875 [==============================] - 14s 7ms/step - loss: 3.0915e-09 - accuracy: 1.0000 - val_loss: 0.2198 - val_accuracy: 0.9823\n",
            "Epoch 96/100\n",
            "1875/1875 [==============================] - 15s 8ms/step - loss: 3.3001e-09 - accuracy: 1.0000 - val_loss: 0.2221 - val_accuracy: 0.9820\n",
            "Epoch 97/100\n",
            "1875/1875 [==============================] - 14s 7ms/step - loss: 3.2882e-09 - accuracy: 1.0000 - val_loss: 0.2219 - val_accuracy: 0.9813\n",
            "Epoch 98/100\n",
            "1875/1875 [==============================] - 13s 7ms/step - loss: 3.6796e-09 - accuracy: 1.0000 - val_loss: 0.2249 - val_accuracy: 0.9818\n",
            "Epoch 99/100\n",
            "1875/1875 [==============================] - 15s 8ms/step - loss: 2.7680e-05 - accuracy: 1.0000 - val_loss: 0.2379 - val_accuracy: 0.9804\n",
            "Epoch 100/100\n",
            "1875/1875 [==============================] - 14s 8ms/step - loss: 3.4609e-04 - accuracy: 0.9999 - val_loss: 0.2264 - val_accuracy: 0.9817\n"
          ]
        }
      ]
    },
    {
      "cell_type": "code",
      "source": [
        "from sklearn import metrics\n",
        "import matplotlib.pyplot as plt\n",
        "import seaborn as sn"
      ],
      "metadata": {
        "id": "ozNbWBeyR7lT"
      },
      "execution_count": 6,
      "outputs": []
    },
    {
      "cell_type": "code",
      "source": [
        "# test_loss, test_acc = network.evaluate(test_images, test_labels)\n",
        "# print(test_acc)\n",
        "# test_predict = network.predict(test_images)\n",
        "\n",
        "plt.xlabel('Epoch Number')\n",
        "plt.ylabel('Loss')\n",
        "plt.plot(training_history.history['loss'], label='training set')\n",
        "plt.plot(training_history.history['val_loss'], label='test set')\n",
        "plt.legend()"
      ],
      "metadata": {
        "colab": {
          "base_uri": "https://localhost:8080/",
          "height": 296
        },
        "id": "5N3QdWgD2EYa",
        "outputId": "bc51fbf2-c35e-4332-c92d-049908576367"
      },
      "execution_count": 6,
      "outputs": [
        {
          "output_type": "execute_result",
          "data": {
            "text/plain": [
              "<matplotlib.legend.Legend at 0x7f9e12e3da50>"
            ]
          },
          "metadata": {},
          "execution_count": 6
        },
        {
          "output_type": "display_data",
          "data": {
            "image/png": "[encoded data removed]",
            "text/plain": [
              "<Figure size 432x288 with 1 Axes>"
            ]
          },
          "metadata": {
            "needs_background": "light"
          }
        }
      ]
    },
    {
      "cell_type": "code",
      "source": [
        "plt.xlabel('Epoch Number')\n",
        "plt.ylabel('Accuracy')\n",
        "plt.plot(training_history.history['accuracy'], label='training set')\n",
        "plt.plot(training_history.history['val_accuracy'], label='test set')\n",
        "plt.legend()"
      ],
      "metadata": {
        "colab": {
          "base_uri": "https://localhost:8080/",
          "height": 296
        },
        "id": "m-_Vpcog-_Mn",
        "outputId": "91011a5b-694b-4007-b3d3-0e465f9289c4"
      },
      "execution_count": 7,
      "outputs": [
        {
          "output_type": "execute_result",
          "data": {
            "text/plain": [
              "<matplotlib.legend.Legend at 0x7f9e1292de50>"
            ]
          },
          "metadata": {},
          "execution_count": 7
        },
        {
          "output_type": "display_data",
          "data": {
            "image/png": "[encoded data removed]",
            "text/plain": [
              "<Figure size 432x288 with 1 Axes>"
            ]
          },
          "metadata": {
            "needs_background": "light"
          }
        }
      ]
    },
    {
      "cell_type": "code",
      "source": [
        "test_loss, test_acc = network.evaluate(test_images, test_labels)\n",
        "print(test_acc)"
      ],
      "metadata": {
        "colab": {
          "base_uri": "https://localhost:8080/"
        },
        "id": "h13Ok2QI7si_",
        "outputId": "868bf356-9073-42a9-aa3e-2b5228856fb6"
      },
      "execution_count": 8,
      "outputs": [
        {
          "output_type": "stream",
          "name": "stdout",
          "text": [
            "313/313 [==============================] - 1s 3ms/step - loss: 0.2264 - accuracy: 0.9817\n",
            "0.9817000031471252\n"
          ]
        }
      ]
    },
    {
      "cell_type": "code",
      "source": [
        "test_predict = network.predict(test_images)\n",
        "mat = metrics.confusion_matrix(test_labels.argmax(axis=1), test_predict.argmax(axis=1))\n",
        "sn.heatmap(mat.T, square=True, annot=True, fmt='d', cbar=False, cmap=sn.cm.rocket_r)\n",
        "plt.xlabel('true label')\n",
        "plt.ylabel('predicted label');"
      ],
      "metadata": {
        "colab": {
          "base_uri": "https://localhost:8080/",
          "height": 279
        },
        "id": "xzannrkE_gB1",
        "outputId": "f1be1f2c-fd01-4055-b9c2-ec50e90ae285"
      },
      "execution_count": 9,
      "outputs": [
        {
          "output_type": "display_data",
          "data": {
            "image/png": "[encoded data removed]",
            "text/plain": [
              "<Figure size 432x288 with 1 Axes>"
            ]
          },
          "metadata": {
            "needs_background": "light"
          }
        }
      ]
    },
    {
      "cell_type": "code",
      "source": [
        "train_images = train_images.reshape(-1, 28, 28, 1)\n",
        "test_images = test_images.reshape(-1, 28, 28, 1)\n",
        "\n",
        "train_labels = to_categorical(train_labels, num_classes=10)\n",
        "test_labels = to_categorical(test_labels, num_classes=10)"
      ],
      "metadata": {
        "id": "Kw7agjRfMDtn"
      },
      "execution_count": 7,
      "outputs": []
    },
    {
      "cell_type": "code",
      "source": [
        "# New CNN model\n",
        "network_t = models.Sequential()\n",
        "network_t.add(layers.Conv2D(32, 3, padding=\"same\", activation = 'relu', input_shape=(28, 28, 1)))\n",
        "network_t.add(layers.MaxPooling2D(2, 2))\n",
        "network_t.add(layers.Conv2D(64, 3, padding=\"same\", activation = 'relu'))\n",
        "network_t.add(layers.Conv2D(64, 3, padding=\"same\", activation = 'relu'))\n",
        "network_t.add(layers.MaxPooling2D(2, 2))\n",
        "network_t.add(layers.Flatten())\n",
        "network_t.add(layers.Dense(512, activation = 'relu'))\n",
        "network_t.add(layers.Dense(10, activation='softmax'))\n",
        "network_t.compile(optimizer='adam',loss='categorical_crossentropy',metrics=['accuracy'])\n",
        "network_t.summary()"
      ],
      "metadata": {
        "colab": {
          "base_uri": "https://localhost:8080/"
        },
        "id": "mi9rBx3lLxgO",
        "outputId": "065e6ed4-c631-4698-ea01-a938af6440f2"
      },
      "execution_count": 8,
      "outputs": [
        {
          "output_type": "stream",
          "name": "stdout",
          "text": [
            "Model: \"sequential\"\n",
            "_________________________________________________________________\n",
            " Layer (type)                Output Shape              Param #   \n",
            "=================================================================\n",
            " conv2d (Conv2D)             (None, 28, 28, 32)        320       \n",
            "                                                                 \n",
            " max_pooling2d (MaxPooling2D  (None, 14, 14, 32)       0         \n",
            " )                                                               \n",
            "                                                                 \n",
            " conv2d_1 (Conv2D)           (None, 14, 14, 64)        18496     \n",
            "                                                                 \n",
            " conv2d_2 (Conv2D)           (None, 14, 14, 64)        36928     \n",
            "                                                                 \n",
            " max_pooling2d_1 (MaxPooling  (None, 7, 7, 64)         0         \n",
            " 2D)                                                             \n",
            "                                                                 \n",
            " flatten (Flatten)           (None, 3136)              0         \n",
            "                                                                 \n",
            " dense (Dense)               (None, 512)               1606144   \n",
            "                                                                 \n",
            " dense_1 (Dense)             (None, 10)                5130      \n",
            "                                                                 \n",
            "=================================================================\n",
            "Total params: 1,667,018\n",
            "Trainable params: 1,667,018\n",
            "Non-trainable params: 0\n",
            "_________________________________________________________________\n"
          ]
        }
      ]
    },
    {
      "cell_type": "code",
      "source": [
        "training_history = network_t.fit(\n",
        "    train_images,\n",
        "    train_labels,\n",
        "    epochs=100,\n",
        "    validation_data=(test_images, test_labels),\n",
        ")"
      ],
      "metadata": {
        "colab": {
          "base_uri": "https://localhost:8080/"
        },
        "id": "oSAUdQ0bNuT3",
        "outputId": "39863784-fc2a-4668-e8e9-1f7f99d34d61"
      },
      "execution_count": 9,
      "outputs": [
        {
          "output_type": "stream",
          "name": "stdout",
          "text": [
            "Epoch 1/100\n",
            "1875/1875 [==============================] - 179s 95ms/step - loss: 0.1034 - accuracy: 0.9683 - val_loss: 0.0739 - val_accuracy: 0.9765\n",
            "Epoch 2/100\n",
            "1875/1875 [==============================] - 175s 94ms/step - loss: 0.0341 - accuracy: 0.9893 - val_loss: 0.0349 - val_accuracy: 0.9877\n",
            "Epoch 3/100\n",
            "1875/1875 [==============================] - 180s 96ms/step - loss: 0.0238 - accuracy: 0.9923 - val_loss: 0.0276 - val_accuracy: 0.9914\n",
            "Epoch 4/100\n",
            "1875/1875 [==============================] - 178s 95ms/step - loss: 0.0167 - accuracy: 0.9946 - val_loss: 0.0272 - val_accuracy: 0.9915\n",
            "Epoch 5/100\n",
            "1875/1875 [==============================] - 178s 95ms/step - loss: 0.0125 - accuracy: 0.9957 - val_loss: 0.0300 - val_accuracy: 0.9919\n",
            "Epoch 6/100\n",
            "1875/1875 [==============================] - 176s 94ms/step - loss: 0.0097 - accuracy: 0.9971 - val_loss: 0.0291 - val_accuracy: 0.9922\n",
            "Epoch 7/100\n",
            "1875/1875 [==============================] - 176s 94ms/step - loss: 0.0095 - accuracy: 0.9969 - val_loss: 0.0337 - val_accuracy: 0.9919\n",
            "Epoch 8/100\n",
            "1875/1875 [==============================] - 176s 94ms/step - loss: 0.0083 - accuracy: 0.9974 - val_loss: 0.0298 - val_accuracy: 0.9911\n",
            "Epoch 9/100\n",
            "1875/1875 [==============================] - 176s 94ms/step - loss: 0.0065 - accuracy: 0.9979 - val_loss: 0.0362 - val_accuracy: 0.9916\n",
            "Epoch 10/100\n",
            "1875/1875 [==============================] - 177s 94ms/step - loss: 0.0078 - accuracy: 0.9973 - val_loss: 0.0309 - val_accuracy: 0.9926\n",
            "Epoch 11/100\n",
            "1875/1875 [==============================] - 176s 94ms/step - loss: 0.0052 - accuracy: 0.9983 - val_loss: 0.0371 - val_accuracy: 0.9927\n",
            "Epoch 12/100\n",
            "1875/1875 [==============================] - 177s 94ms/step - loss: 0.0063 - accuracy: 0.9981 - val_loss: 0.0424 - val_accuracy: 0.9919\n",
            "Epoch 13/100\n",
            "1875/1875 [==============================] - 177s 94ms/step - loss: 0.0045 - accuracy: 0.9987 - val_loss: 0.0504 - val_accuracy: 0.9905\n",
            "Epoch 14/100\n",
            "1875/1875 [==============================] - 177s 94ms/step - loss: 0.0052 - accuracy: 0.9986 - val_loss: 0.0515 - val_accuracy: 0.9901\n",
            "Epoch 15/100\n",
            "1875/1875 [==============================] - 177s 94ms/step - loss: 0.0060 - accuracy: 0.9983 - val_loss: 0.0803 - val_accuracy: 0.9881\n",
            "Epoch 16/100\n",
            "1875/1875 [==============================] - 177s 94ms/step - loss: 0.0034 - accuracy: 0.9989 - val_loss: 0.0530 - val_accuracy: 0.9921\n",
            "Epoch 17/100\n",
            "1875/1875 [==============================] - 177s 94ms/step - loss: 0.0058 - accuracy: 0.9984 - val_loss: 0.0595 - val_accuracy: 0.9907\n",
            "Epoch 18/100\n",
            "1875/1875 [==============================] - 177s 94ms/step - loss: 0.0057 - accuracy: 0.9984 - val_loss: 0.0519 - val_accuracy: 0.9908\n",
            "Epoch 19/100\n",
            "1875/1875 [==============================] - 178s 95ms/step - loss: 0.0035 - accuracy: 0.9991 - val_loss: 0.0571 - val_accuracy: 0.9920\n",
            "Epoch 20/100\n",
            "1875/1875 [==============================] - 178s 95ms/step - loss: 0.0051 - accuracy: 0.9988 - val_loss: 0.0390 - val_accuracy: 0.9929\n",
            "Epoch 21/100\n",
            "1875/1875 [==============================] - 177s 94ms/step - loss: 0.0041 - accuracy: 0.9989 - val_loss: 0.0774 - val_accuracy: 0.9899\n",
            "Epoch 22/100\n",
            "1875/1875 [==============================] - 176s 94ms/step - loss: 0.0048 - accuracy: 0.9988 - val_loss: 0.0630 - val_accuracy: 0.9909\n",
            "Epoch 23/100\n",
            "1875/1875 [==============================] - 176s 94ms/step - loss: 0.0037 - accuracy: 0.9990 - val_loss: 0.0565 - val_accuracy: 0.9928\n",
            "Epoch 24/100\n",
            "1875/1875 [==============================] - 176s 94ms/step - loss: 0.0030 - accuracy: 0.9994 - val_loss: 0.0715 - val_accuracy: 0.9906\n",
            "Epoch 25/100\n",
            "1875/1875 [==============================] - 177s 94ms/step - loss: 0.0052 - accuracy: 0.9990 - val_loss: 0.0477 - val_accuracy: 0.9926\n",
            "Epoch 26/100\n",
            "1875/1875 [==============================] - 177s 94ms/step - loss: 0.0045 - accuracy: 0.9991 - val_loss: 0.0837 - val_accuracy: 0.9924\n",
            "Epoch 27/100\n",
            "1875/1875 [==============================] - 178s 95ms/step - loss: 0.0053 - accuracy: 0.9991 - val_loss: 0.0716 - val_accuracy: 0.9925\n",
            "Epoch 28/100\n",
            "1875/1875 [==============================] - 178s 95ms/step - loss: 0.0040 - accuracy: 0.9991 - val_loss: 0.0917 - val_accuracy: 0.9912\n",
            "Epoch 29/100\n",
            "1875/1875 [==============================] - 178s 95ms/step - loss: 0.0047 - accuracy: 0.9991 - val_loss: 0.0827 - val_accuracy: 0.9919\n",
            "Epoch 30/100\n",
            "1875/1875 [==============================] - 178s 95ms/step - loss: 0.0042 - accuracy: 0.9993 - val_loss: 0.0927 - val_accuracy: 0.9901\n",
            "Epoch 31/100\n",
            "1875/1875 [==============================] - 177s 95ms/step - loss: 0.0026 - accuracy: 0.9994 - val_loss: 0.0660 - val_accuracy: 0.9935\n",
            "Epoch 32/100\n",
            "1875/1875 [==============================] - 177s 94ms/step - loss: 0.0042 - accuracy: 0.9992 - val_loss: 0.1030 - val_accuracy: 0.9922\n",
            "Epoch 33/100\n",
            "1875/1875 [==============================] - 176s 94ms/step - loss: 0.0036 - accuracy: 0.9992 - val_loss: 0.0834 - val_accuracy: 0.9924\n",
            "Epoch 34/100\n",
            "1875/1875 [==============================] - 177s 94ms/step - loss: 0.0038 - accuracy: 0.9992 - val_loss: 0.0974 - val_accuracy: 0.9916\n",
            "Epoch 35/100\n",
            "1875/1875 [==============================] - 177s 95ms/step - loss: 0.0043 - accuracy: 0.9992 - val_loss: 0.0724 - val_accuracy: 0.9928\n",
            "Epoch 36/100\n",
            "1875/1875 [==============================] - 177s 94ms/step - loss: 0.0049 - accuracy: 0.9991 - val_loss: 0.0979 - val_accuracy: 0.9916\n",
            "Epoch 37/100\n",
            "1875/1875 [==============================] - 177s 94ms/step - loss: 0.0048 - accuracy: 0.9992 - val_loss: 0.0815 - val_accuracy: 0.9933\n",
            "Epoch 38/100\n",
            "1875/1875 [==============================] - 177s 94ms/step - loss: 0.0052 - accuracy: 0.9991 - val_loss: 0.1092 - val_accuracy: 0.9918\n",
            "Epoch 39/100\n",
            "1875/1875 [==============================] - 177s 94ms/step - loss: 0.0044 - accuracy: 0.9992 - val_loss: 0.1109 - val_accuracy: 0.9917\n",
            "Epoch 40/100\n",
            "1875/1875 [==============================] - 177s 94ms/step - loss: 0.0045 - accuracy: 0.9994 - val_loss: 0.1098 - val_accuracy: 0.9925\n",
            "Epoch 41/100\n",
            "1875/1875 [==============================] - 177s 94ms/step - loss: 0.0052 - accuracy: 0.9992 - val_loss: 0.0991 - val_accuracy: 0.9932\n",
            "Epoch 42/100\n",
            "1875/1875 [==============================] - 177s 94ms/step - loss: 0.0045 - accuracy: 0.9993 - val_loss: 0.1156 - val_accuracy: 0.9925\n",
            "Epoch 43/100\n",
            "1875/1875 [==============================] - 177s 94ms/step - loss: 0.0061 - accuracy: 0.9993 - val_loss: 0.1115 - val_accuracy: 0.9925\n",
            "Epoch 44/100\n",
            "1875/1875 [==============================] - 176s 94ms/step - loss: 0.0052 - accuracy: 0.9992 - val_loss: 0.0980 - val_accuracy: 0.9931\n",
            "Epoch 45/100\n",
            "1875/1875 [==============================] - 176s 94ms/step - loss: 0.0055 - accuracy: 0.9993 - val_loss: 0.1030 - val_accuracy: 0.9929\n",
            "Epoch 46/100\n",
            "1875/1875 [==============================] - 176s 94ms/step - loss: 0.0032 - accuracy: 0.9997 - val_loss: 0.1552 - val_accuracy: 0.9902\n",
            "Epoch 47/100\n",
            "1875/1875 [==============================] - 176s 94ms/step - loss: 0.0035 - accuracy: 0.9994 - val_loss: 0.1144 - val_accuracy: 0.9925\n",
            "Epoch 48/100\n",
            "1875/1875 [==============================] - 176s 94ms/step - loss: 0.0067 - accuracy: 0.9991 - val_loss: 0.1659 - val_accuracy: 0.9898\n",
            "Epoch 49/100\n",
            "1875/1875 [==============================] - 177s 94ms/step - loss: 0.0023 - accuracy: 0.9997 - val_loss: 0.1244 - val_accuracy: 0.9919\n",
            "Epoch 50/100\n",
            "1875/1875 [==============================] - 177s 94ms/step - loss: 0.0026 - accuracy: 0.9994 - val_loss: 0.1743 - val_accuracy: 0.9909\n",
            "Epoch 51/100\n",
            "1875/1875 [==============================] - 177s 94ms/step - loss: 0.0092 - accuracy: 0.9990 - val_loss: 0.1832 - val_accuracy: 0.9907\n",
            "Epoch 52/100\n",
            "1875/1875 [==============================] - 177s 94ms/step - loss: 0.0032 - accuracy: 0.9995 - val_loss: 0.1640 - val_accuracy: 0.9910\n",
            "Epoch 53/100\n",
            "1875/1875 [==============================] - 177s 94ms/step - loss: 0.0046 - accuracy: 0.9993 - val_loss: 0.1605 - val_accuracy: 0.9923\n",
            "Epoch 54/100\n",
            "1875/1875 [==============================] - 176s 94ms/step - loss: 0.0049 - accuracy: 0.9995 - val_loss: 0.1703 - val_accuracy: 0.9917\n",
            "Epoch 55/100\n",
            "1875/1875 [==============================] - 177s 94ms/step - loss: 0.0063 - accuracy: 0.9993 - val_loss: 0.1743 - val_accuracy: 0.9923\n",
            "Epoch 56/100\n",
            "1875/1875 [==============================] - 177s 94ms/step - loss: 0.0045 - accuracy: 0.9994 - val_loss: 0.1945 - val_accuracy: 0.9896\n",
            "Epoch 57/100\n",
            "1875/1875 [==============================] - 177s 95ms/step - loss: 0.0048 - accuracy: 0.9994 - val_loss: 0.2131 - val_accuracy: 0.9914\n",
            "Epoch 58/100\n",
            "1875/1875 [==============================] - 178s 95ms/step - loss: 0.0049 - accuracy: 0.9994 - val_loss: 0.1527 - val_accuracy: 0.9928\n",
            "Epoch 59/100\n",
            "1875/1875 [==============================] - 177s 95ms/step - loss: 0.0039 - accuracy: 0.9995 - val_loss: 0.1889 - val_accuracy: 0.9920\n",
            "Epoch 60/100\n",
            "1875/1875 [==============================] - 177s 94ms/step - loss: 0.0048 - accuracy: 0.9994 - val_loss: 0.2062 - val_accuracy: 0.9930\n",
            "Epoch 61/100\n",
            "1875/1875 [==============================] - 177s 94ms/step - loss: 0.0048 - accuracy: 0.9995 - val_loss: 0.1850 - val_accuracy: 0.9932\n",
            "Epoch 62/100\n",
            "1875/1875 [==============================] - 177s 94ms/step - loss: 0.0056 - accuracy: 0.9994 - val_loss: 0.2381 - val_accuracy: 0.9915\n",
            "Epoch 63/100\n",
            "1875/1875 [==============================] - 176s 94ms/step - loss: 0.0073 - accuracy: 0.9992 - val_loss: 0.2090 - val_accuracy: 0.9923\n",
            "Epoch 64/100\n",
            "1875/1875 [==============================] - 177s 94ms/step - loss: 0.0047 - accuracy: 0.9995 - val_loss: 0.1892 - val_accuracy: 0.9913\n",
            "Epoch 65/100\n",
            "1875/1875 [==============================] - 177s 95ms/step - loss: 0.0089 - accuracy: 0.9993 - val_loss: 0.2026 - val_accuracy: 0.9914\n",
            "Epoch 66/100\n",
            "1875/1875 [==============================] - 178s 95ms/step - loss: 0.0030 - accuracy: 0.9996 - val_loss: 0.1685 - val_accuracy: 0.9930\n",
            "Epoch 67/100\n",
            "1875/1875 [==============================] - 178s 95ms/step - loss: 0.0066 - accuracy: 0.9993 - val_loss: 0.2236 - val_accuracy: 0.9916\n",
            "Epoch 68/100\n",
            "1875/1875 [==============================] - 178s 95ms/step - loss: 0.0039 - accuracy: 0.9997 - val_loss: 0.2188 - val_accuracy: 0.9913\n",
            "Epoch 69/100\n",
            "1875/1875 [==============================] - 178s 95ms/step - loss: 0.0069 - accuracy: 0.9994 - val_loss: 0.2128 - val_accuracy: 0.9920\n",
            "Epoch 70/100\n",
            "1875/1875 [==============================] - 177s 94ms/step - loss: 0.0045 - accuracy: 0.9996 - val_loss: 0.1959 - val_accuracy: 0.9926\n",
            "Epoch 71/100\n",
            "1875/1875 [==============================] - 177s 94ms/step - loss: 0.0042 - accuracy: 0.9996 - val_loss: 0.1684 - val_accuracy: 0.9925\n",
            "Epoch 72/100\n",
            "1875/1875 [==============================] - 177s 95ms/step - loss: 0.0050 - accuracy: 0.9996 - val_loss: 0.1645 - val_accuracy: 0.9920\n",
            "Epoch 73/100\n",
            "1875/1875 [==============================] - 178s 95ms/step - loss: 0.0049 - accuracy: 0.9995 - val_loss: 0.2681 - val_accuracy: 0.9911\n",
            "Epoch 74/100\n",
            "1875/1875 [==============================] - 179s 95ms/step - loss: 0.0078 - accuracy: 0.9993 - val_loss: 0.2006 - val_accuracy: 0.9922\n",
            "Epoch 75/100\n",
            "1875/1875 [==============================] - 178s 95ms/step - loss: 0.0062 - accuracy: 0.9995 - val_loss: 0.3021 - val_accuracy: 0.9916\n",
            "Epoch 76/100\n",
            "1875/1875 [==============================] - 178s 95ms/step - loss: 0.0069 - accuracy: 0.9995 - val_loss: 0.2545 - val_accuracy: 0.9902\n",
            "Epoch 77/100\n",
            "1875/1875 [==============================] - 178s 95ms/step - loss: 0.0067 - accuracy: 0.9995 - val_loss: 0.2538 - val_accuracy: 0.9923\n",
            "Epoch 78/100\n",
            "1875/1875 [==============================] - 178s 95ms/step - loss: 0.0056 - accuracy: 0.9995 - val_loss: 0.2955 - val_accuracy: 0.9918\n",
            "Epoch 79/100\n",
            "1875/1875 [==============================] - 179s 95ms/step - loss: 0.0039 - accuracy: 0.9997 - val_loss: 0.2469 - val_accuracy: 0.9926\n",
            "Epoch 80/100\n",
            "1875/1875 [==============================] - 179s 95ms/step - loss: 0.0046 - accuracy: 0.9996 - val_loss: 0.2490 - val_accuracy: 0.9923\n",
            "Epoch 81/100\n",
            "1875/1875 [==============================] - 179s 95ms/step - loss: 0.0063 - accuracy: 0.9995 - val_loss: 0.3084 - val_accuracy: 0.9914\n",
            "Epoch 82/100\n",
            "1875/1875 [==============================] - 178s 95ms/step - loss: 0.0076 - accuracy: 0.9995 - val_loss: 0.2970 - val_accuracy: 0.9903\n",
            "Epoch 83/100\n",
            "1875/1875 [==============================] - 178s 95ms/step - loss: 0.0077 - accuracy: 0.9995 - val_loss: 0.3445 - val_accuracy: 0.9911\n",
            "Epoch 84/100\n",
            "1875/1875 [==============================] - 178s 95ms/step - loss: 0.0055 - accuracy: 0.9996 - val_loss: 0.3486 - val_accuracy: 0.9903\n",
            "Epoch 85/100\n",
            "1875/1875 [==============================] - 178s 95ms/step - loss: 0.0065 - accuracy: 0.9994 - val_loss: 0.2764 - val_accuracy: 0.9925\n",
            "Epoch 86/100\n",
            "1875/1875 [==============================] - 178s 95ms/step - loss: 0.0087 - accuracy: 0.9994 - val_loss: 0.3056 - val_accuracy: 0.9919\n",
            "Epoch 87/100\n",
            "1875/1875 [==============================] - 178s 95ms/step - loss: 0.0057 - accuracy: 0.9997 - val_loss: 0.2739 - val_accuracy: 0.9936\n",
            "Epoch 88/100\n",
            "1875/1875 [==============================] - 178s 95ms/step - loss: 0.0073 - accuracy: 0.9995 - val_loss: 0.2727 - val_accuracy: 0.9930\n",
            "Epoch 89/100\n",
            "1875/1875 [==============================] - 178s 95ms/step - loss: 0.0035 - accuracy: 0.9997 - val_loss: 0.2752 - val_accuracy: 0.9920\n",
            "Epoch 90/100\n",
            "1875/1875 [==============================] - 178s 95ms/step - loss: 0.0042 - accuracy: 0.9997 - val_loss: 0.2827 - val_accuracy: 0.9918\n",
            "Epoch 91/100\n",
            "1875/1875 [==============================] - 178s 95ms/step - loss: 0.0101 - accuracy: 0.9995 - val_loss: 0.3353 - val_accuracy: 0.9928\n",
            "Epoch 92/100\n",
            "1875/1875 [==============================] - 179s 95ms/step - loss: 0.0049 - accuracy: 0.9996 - val_loss: 0.2648 - val_accuracy: 0.9924\n",
            "Epoch 93/100\n",
            "1875/1875 [==============================] - 179s 95ms/step - loss: 0.0064 - accuracy: 0.9995 - val_loss: 0.2954 - val_accuracy: 0.9933\n",
            "Epoch 94/100\n",
            "1875/1875 [==============================] - 179s 95ms/step - loss: 9.1988e-04 - accuracy: 0.9999 - val_loss: 0.2896 - val_accuracy: 0.9924\n",
            "Epoch 95/100\n",
            "1875/1875 [==============================] - 179s 95ms/step - loss: 0.0094 - accuracy: 0.9994 - val_loss: 0.3380 - val_accuracy: 0.9913\n",
            "Epoch 96/100\n",
            "1875/1875 [==============================] - 179s 95ms/step - loss: 0.0049 - accuracy: 0.9995 - val_loss: 0.3780 - val_accuracy: 0.9928\n",
            "Epoch 97/100\n",
            "1875/1875 [==============================] - 179s 95ms/step - loss: 0.0043 - accuracy: 0.9997 - val_loss: 0.3759 - val_accuracy: 0.9923\n",
            "Epoch 98/100\n",
            "1875/1875 [==============================] - 180s 96ms/step - loss: 0.0040 - accuracy: 0.9997 - val_loss: 0.3543 - val_accuracy: 0.9922\n",
            "Epoch 99/100\n",
            "1875/1875 [==============================] - 178s 95ms/step - loss: 0.0090 - accuracy: 0.9994 - val_loss: 0.4118 - val_accuracy: 0.9919\n",
            "Epoch 100/100\n",
            "1875/1875 [==============================] - 178s 95ms/step - loss: 0.0076 - accuracy: 0.9996 - val_loss: 0.3882 - val_accuracy: 0.9911\n"
          ]
        }
      ]
    },
    {
      "cell_type": "code",
      "source": [
        "# plot accuracy graph\n",
        "plt.xlabel('Epoch Number')\n",
        "plt.ylabel('Accuracy')\n",
        "plt.plot(training_history.history['accuracy'], label='training set')\n",
        "plt.plot(training_history.history['val_accuracy'], label='test set')\n",
        "plt.legend()"
      ],
      "metadata": {
        "colab": {
          "base_uri": "https://localhost:8080/",
          "height": 296
        },
        "id": "kbDrRrdNNxzP",
        "outputId": "6940b79f-a921-4c75-cb4f-e5b4d8ae96e3"
      },
      "execution_count": 10,
      "outputs": [
        {
          "output_type": "execute_result",
          "data": {
            "text/plain": [
              "<matplotlib.legend.Legend at 0x7f456ccc6a90>"
            ]
          },
          "metadata": {},
          "execution_count": 10
        },
        {
          "output_type": "display_data",
          "data": {
            "image/png": "[encoded data removed]",
            "text/plain": [
              "<Figure size 432x288 with 1 Axes>"
            ]
          },
          "metadata": {
            "needs_background": "light"
          }
        }
      ]
    }
  ]
}